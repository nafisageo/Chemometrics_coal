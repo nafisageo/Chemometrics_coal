{
 "cells": [
  {
   "cell_type": "code",
   "execution_count": 8,
   "id": "716a7502",
   "metadata": {},
   "outputs": [
    {
     "name": "stderr",
     "output_type": "stream",
     "text": [
      "C:\\Users\\Sk Md Hasan\\AppData\\Local\\Temp\\ipykernel_19700\\1820742599.py:8: FutureWarning: In a future version of pandas, a length 1 tuple will be returned when iterating over a groupby with a grouper equal to a list of length 1. Don't supply a list with a single grouper to avoid this warning.\n",
      "  for group_name, df_group in grouped:\n"
     ]
    }
   ],
   "source": [
    "import pandas as pd \n",
    "import numpy as np \n",
    "import csv\n",
    "#row to column conversion with time split of half an hour (48*2)\n",
    "df = pd.read_excel(r'C:\\Users\\Sk Md Hasan\\Desktop\\test.xlsx', parse_dates=['date'])\n",
    "df['date'] = df['date'].dt.date\n",
    "grouped = df.groupby(['date'])\n",
    "dfs = []\n",
    "for group_name, df_group in grouped:\n",
    "    date_list = []\n",
    "    for val in df_group['LWIN_0_0_1(W/m^2)']:\n",
    "        date_list.append([str(group_name).replace('datetime.date(','').replace(')',''), val])\n",
    "    df_out = pd.DataFrame(date_list, columns = ['date', 'LWIN_0_0_1(W/m^2)'])\n",
    "    dfs.append(df_out)\n",
    "# print(date_list)\n",
    "data = pd.concat(dfs, axis=1)\n",
    "data.to_csv('results12.csv')"
   ]
  },
  {
   "cell_type": "code",
   "execution_count": null,
   "id": "192e427e",
   "metadata": {},
   "outputs": [],
   "source": []
  }
 ],
 "metadata": {
  "kernelspec": {
   "display_name": "Python 3 (ipykernel)",
   "language": "python",
   "name": "python3"
  },
  "language_info": {
   "codemirror_mode": {
    "name": "ipython",
    "version": 3
   },
   "file_extension": ".py",
   "mimetype": "text/x-python",
   "name": "python",
   "nbconvert_exporter": "python",
   "pygments_lexer": "ipython3",
   "version": "3.11.0"
  }
 },
 "nbformat": 4,
 "nbformat_minor": 5
}
